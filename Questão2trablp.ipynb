{
  "nbformat": 4,
  "nbformat_minor": 0,
  "metadata": {
    "colab": {
      "provenance": [],
      "authorship_tag": "ABX9TyMPyhOef8rTxf9fl/VFjRhL",
      "include_colab_link": true
    },
    "kernelspec": {
      "name": "python3",
      "display_name": "Python 3"
    },
    "language_info": {
      "name": "python"
    }
  },
  "cells": [
    {
      "cell_type": "markdown",
      "metadata": {
        "id": "view-in-github",
        "colab_type": "text"
      },
      "source": [
        "<a href=\"https://colab.research.google.com/github/josuelibarbosa/Aula-1/blob/main/Quest%C3%A3o2trablp.ipynb\" target=\"_parent\"><img src=\"https://colab.research.google.com/assets/colab-badge.svg\" alt=\"Open In Colab\"/></a>"
      ]
    },
    {
      "cell_type": "code",
      "execution_count": 11,
      "metadata": {
        "colab": {
          "base_uri": "https://localhost:8080/"
        },
        "id": "s-saSQmQeGRT",
        "outputId": "4e773537-9fb3-44fe-86d9-ee0391cef7e5"
      },
      "outputs": [
        {
          "output_type": "stream",
          "name": "stdout",
          "text": [
            "------ Bem-vindo(a) à loja de Açaí & Cupuaçu da Josueli da Mata Barbosa! ------\n",
            "--------------------------------- Cardápio ------------------------------------\n",
            "-------------------------------------------------------------------------------\n",
            "-------------|   Tamanho   |    Açai (AC)    |    Cupuaçu (CP)   |-------------\n",
            "-------------|      P      |    R$ 11,00     |      R$ 9,00      |-------------\n",
            "-------------|      M      |    R$ 16,00     |      R$ 14,00     |-------------\n",
            "-------------|      G      |    R$ 20,00     |      R$ 18,00     |-------------\n",
            "-------------------------------------------------------------------------------\n",
            "Qual produto você gostaria? Açaí: \"AC\" ou Cupuaçu: \"CP\"? ar\n",
            "Desculpe, não entendi. Por favor, digite: \"AC\" para Açaí, ou \"CP\" para Cupuaçu. \n",
            "\n",
            "Qual produto você gostaria? Açaí: \"AC\" ou Cupuaçu: \"CP\"? ac\n",
            "E qual o tamanho? Pequeno: \"P\", Médio: \"M\" ou Grande: \"G\"? gg\n",
            "Desculpe, o tamanho é inválido. Por favor, digite: Pequeno \"P\" para Pequeno, \"M\" para Médio, \"G\" para Grande.\n",
            "\n",
            "E qual o tamanho? Pequeno: \"P\", Médio: \"M\" ou Grande: \"G\"? g\n",
            "Você pediu um Açaí tamanho G, por: R$ 20.00\n",
            "\n",
            "Gostaria de adicionar mais alguma coisa ao seu pedido? Responda \"S\" ou \"N\": s\n",
            "Qual produto você gostaria? Açaí: \"AC\" ou Cupuaçu: \"CP\"? cp\n",
            "E qual o tamanho? Pequeno: \"P\", Médio: \"M\" ou Grande: \"G\"? m\n",
            "Você pediu um Cupuaçu tamanho M, por: R$ 14.00\n",
            "\n",
            "Gostaria de adicionar mais alguma coisa ao seu pedido? Responda \"S\" ou \"N\": n\n",
            "Valor total do seu pedido: R$ 34.00 a ser pago.\n"
          ]
        }
      ],
      "source": [
        "# Exigência de código 1 de 8: Mensagem de boas-vindas com meu nome\n",
        "print('------ Bem-vindo(a) à loja de Açaí & Cupuaçu da Josueli da Mata Barbosa! ------')\n",
        "print('--------------------------------- Cardápio ------------------------------------')\n",
        "print('-------------------------------------------------------------------------------')\n",
        "print('-------------|   Tamanho   |    Açai (AC)    |    Cupuaçu (CP)   |-------------')\n",
        "print('-------------|      P      |    R$ 11,00     |      R$ 9,00      |-------------')\n",
        "print('-------------|      M      |    R$ 16,00     |      R$ 14,00     |-------------')\n",
        "print('-------------|      G      |    R$ 20,00     |      R$ 18,00     |-------------')\n",
        "print('-------------------------------------------------------------------------------')\n",
        "\n",
        "total = 0  # Inicializa o acumulador\n",
        "\n",
        "while True:\n",
        "    # Exigência de código 2 de 8: Entrada do sabor com validação\n",
        "    while True:\n",
        "        sabor = input('Qual produto você gostaria? Açaí: \"AC\" ou Cupuaçu: \"CP\"? ').upper()\n",
        "        if sabor in ('AC', 'CP'):\n",
        "            break\n",
        "        else:\n",
        "            print('Desculpe, não entendi. Por favor, digite: \"AC\" para Açaí, ou \"CP\" para Cupuaçu. \\n')\n",
        "\n",
        "    # Exigência de código 3 de 8: Entrada do tamanho com validação\n",
        "    while True:\n",
        "        tamanho = input('E qual o tamanho? Pequeno: \"P\", Médio: \"M\" ou Grande: \"G\"? ').upper()\n",
        "        if tamanho in ('P', 'M', 'G'):\n",
        "            break\n",
        "        else:\n",
        "            print('Desculpe, o tamanho é inválido. Por favor, digite: Pequeno \"P\" para Pequeno, \"M\" para Médio, \"G\" para Grande.\\n' )\n",
        "            continue\n",
        "\n",
        "    # Exigência de código 4 de 8: Lógica para calcular o preço\n",
        "    if sabor == 'AC':\n",
        "        if tamanho == 'P':\n",
        "            preco = 11\n",
        "        elif tamanho == 'M':\n",
        "            preco = 16\n",
        "        else:\n",
        "            preco = 20\n",
        "        sabor_nome = 'Açaí'\n",
        "    else:  # sabor == \"CP\"\n",
        "        if tamanho == 'P':\n",
        "            preco = 9\n",
        "        elif tamanho == 'M':\n",
        "            preco = 14\n",
        "        else:\n",
        "            preco = 18\n",
        "        sabor_nome = 'Cupuaçu'\n",
        "\n",
        "    print(f'Você pediu um {sabor_nome} tamanho {tamanho}, por: R$ {preco:.2f}\\n')  # Imprime o pedido\n",
        "\n",
        "    total += preco  # Atualiza o acumulador\n",
        "\n",
        "    # Exigência de código 6 de 8: Pergunta para pedir mais\n",
        "    resposta = input('Gostaria de adicionar mais alguma coisa ao seu pedido? Responda \"S\" ou \"N\": ').upper()\n",
        "    if resposta != 'S':\n",
        "        break  # Sai do loop principal se a resposta for \"N\" (Exigência de código 7 de 8)\n",
        "\n",
        "# Exigência de código 5 de 8: Imprime o total\n",
        "print(f'Valor total do seu pedido: R$ {total:.2f} a ser pago.')\n"
      ]
    }
  ]
}