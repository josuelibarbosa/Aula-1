{
  "nbformat": 4,
  "nbformat_minor": 0,
  "metadata": {
    "colab": {
      "provenance": [],
      "authorship_tag": "ABX9TyOBs0O341QJamGAB0GaF2Q4",
      "include_colab_link": true
    },
    "kernelspec": {
      "name": "python3",
      "display_name": "Python 3"
    },
    "language_info": {
      "name": "python"
    }
  },
  "cells": [
    {
      "cell_type": "markdown",
      "metadata": {
        "id": "view-in-github",
        "colab_type": "text"
      },
      "source": [
        "<a href=\"https://colab.research.google.com/github/josuelibarbosa/Aula-1/blob/main/Questao3trablp.ipynb\" target=\"_parent\"><img src=\"https://colab.research.google.com/assets/colab-badge.svg\" alt=\"Open In Colab\"/></a>"
      ]
    },
    {
      "cell_type": "code",
      "execution_count": 10,
      "metadata": {
        "colab": {
          "base_uri": "https://localhost:8080/"
        },
        "id": "6heWGIqx0K1M",
        "outputId": "c892068f-65f2-4042-cc66-89af12144256"
      },
      "outputs": [
        {
          "output_type": "stream",
          "name": "stdout",
          "text": [
            "Bem-vindo(a) a copiadora da Josueli da Mata Barbosa!\n",
            "Digite o serviço desejado: \n",
            "DIG - Digitalização \n",
            "ICO - Impressão Colorida\n",
            "IPB - Impressão Preto e Branco\n",
            "FOT - Fotocópia \n",
            "a\n",
            "Opção inválida, insira o tipo do serviço novamente. \n",
            "\n",
            "Digite o serviço desejado: \n",
            "DIG - Digitalização \n",
            "ICO - Impressão Colorida\n",
            "IPB - Impressão Preto e Branco\n",
            "FOT - Fotocópia \n",
            "fot\n",
            "Quantas páginas serão impressas? \n",
            "2000000000000000\n",
            "Sinto muito, não imprimimos tantas páginas de uma vez.\n",
            "Por favor, entre com o número de páginas novamente. \n",
            "\n",
            "Quantas páginas serão impressas? \n",
            "200\n",
            "Parabéns! Desconto de 20% aplicado.\n",
            "\n",
            "Digite o serviço adicional: \n",
            "1 - Encadernação Simples - R$ 15,00\n",
            "2 - Encadernação Capa Dura - R$ 40,00\n",
            "0 - Não desejo serviço adicional \n",
            "2\n",
            "Serviço: fot - 160.0 páginas x R$ 0.20 = R$ 32.00\n",
            "Adicional: R$ 40.00\n",
            "Total a pagar: R$ 72.00\n"
          ]
        }
      ],
      "source": [
        "def escolha_servico():\n",
        "    # Função para escolher o serviço desejado.\n",
        "    # Retorna o valor do serviço com base na escolha do usuário.\n",
        "\n",
        "    while True:\n",
        "        servico = input('Digite o serviço desejado: \\n'\n",
        "                        'DIG - Digitalização \\n'\n",
        "                        'ICO - Impressão Colorida\\n'\n",
        "                        'IPB - Impressão Preto e Branco\\n'\n",
        "                        'FOT - Fotocópia \\n').lower()\n",
        "        if servico in ('dig', 'ico', 'ipb', 'fot'):\n",
        "            return servico\n",
        "        else:\n",
        "            print('Opção inválida, insira o tipo do serviço novamente. \\n')\n",
        "\n",
        "def num_pagina():\n",
        "    # Função para obter o número de páginas e aplicar o desconto.\n",
        "    # Retorna o número de páginas com desconto.\n",
        "\n",
        "    while True:\n",
        "        try:\n",
        "            num_paginas = int(input('Quantas páginas serão impressas? \\n'))\n",
        "            if num_paginas < 20:\n",
        "                return num_paginas\n",
        "            elif 20 <= num_paginas < 200:\n",
        "                print('Parabéns! Desconto de 15% aplicado.\\n')\n",
        "                return num_paginas * 0.85  # Desconto de 15%\n",
        "            elif 200 <= num_paginas < 2000:\n",
        "                print('Parabéns! Desconto de 20% aplicado.\\n')\n",
        "                return num_paginas * 0.80  # Desconto de 20%\n",
        "            elif 2000 <= num_paginas < 20000:\n",
        "                print('Parabéns! Desconto de 25% aplicado.\\n')\n",
        "                return num_paginas * 0.75  # Desconto de 25%\n",
        "            else:\n",
        "                print('Sinto muito, não imprimimos tantas páginas de uma vez.\\n'\n",
        "                      'Por favor, entre com o número de páginas novamente. \\n')\n",
        "        except ValueError:\n",
        "            print('Entrada inválida. Digite um número.')\n",
        "\n",
        "def servico_extra():\n",
        "    # Função para obter o serviço adicional desejado.\n",
        "    # Retorna o valor do serviço adicional.\n",
        "\n",
        "    while True:\n",
        "        try:\n",
        "            adicional = int(input('Digite o serviço adicional: \\n'\n",
        "                                  '1 - Encadernação Simples - R$ 15,00\\n'\n",
        "                                  '2 - Encadernação Capa Dura - R$ 40,00\\n'\n",
        "                                  '0 - Não desejo serviço adicional \\n'))\n",
        "            if adicional in (1, 2, 0):\n",
        "                if adicional == 1:\n",
        "                    return 15\n",
        "                elif adicional == 2:\n",
        "                    return 40\n",
        "                else:\n",
        "                    return 0\n",
        "            else:\n",
        "                print('Opção inválida. Tente novamente.')\n",
        "        except ValueError:\n",
        "            print('Entrada inválida. Digite um número.')\n",
        "\n",
        "# Código principal (main)\n",
        "print('Bem-vindo(a) a copiadora da Josueli da Mata Barbosa!')\n",
        "\n",
        "# Pedido com opção de serviço\n",
        "servico = escolha_servico()\n",
        "num_paginas = num_pagina()\n",
        "adicional = servico_extra()\n",
        "\n",
        "if servico == 'dig':\n",
        "    valor_servico = 1.10\n",
        "elif servico == 'ico':\n",
        "    valor_servico = 1.00\n",
        "elif servico == 'ipb':\n",
        "    valor_servico = 0.40\n",
        "elif servico == 'fot':\n",
        "    valor_servico = 0.20\n",
        "\n",
        "total = (valor_servico * num_paginas) + adicional #calculo do total a pagar\n",
        "print(f'Serviço: {servico} - {num_paginas} páginas x R$ {valor_servico:.2f} = R$ {valor_servico * num_paginas:.2f}')\n",
        "if adicional > 0:\n",
        "    print(f'Adicional: R$ {adicional:.2f}')\n",
        "print(f'Total a pagar: R$ {total:.2f}')"
      ]
    }
  ]
}